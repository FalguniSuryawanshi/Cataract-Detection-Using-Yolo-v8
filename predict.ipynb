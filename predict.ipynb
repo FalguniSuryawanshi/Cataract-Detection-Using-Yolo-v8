{
 "cells": [
  {
   "cell_type": "code",
   "execution_count": 3,
   "metadata": {},
   "outputs": [],
   "source": [
    "import matplotlib.pyplot as plt\n",
    "from ultralytics import YOLO\n",
    "import cv2\n",
    "import random\n",
    "import os\n",
    "import numpy as np \n",
    "import pandas as pd\n",
    "from inference_sdk import InferenceHTTPClient # type: ignore"
   ]
  },
  {
   "cell_type": "markdown",
   "metadata": {},
   "source": []
  },
  {
   "cell_type": "code",
   "execution_count": 4,
   "metadata": {},
   "outputs": [],
   "source": [
    "model = InferenceHTTPClient(\n",
    "    api_url=\"https://classify.roboflow.com\",\n",
    "    api_key=\"F1QBC8zZc087SxR8yioK\"\n",
    ")"
   ]
  },
  {
   "cell_type": "markdown",
   "metadata": {},
   "source": []
  },
  {
   "cell_type": "code",
   "execution_count": 7,
   "metadata": {},
   "outputs": [
    {
     "name": "stdout",
     "output_type": "stream",
     "text": [
      "1416_right_jpg.rf.7a20b8adf2aea7ffbae809a775306613.jpg\n",
      "Condition: glaucoma\n",
      "Confidence: 0.509\n",
      "Class ID: 4\n",
      "\n"
     ]
    }
   ],
   "source": [
    "# Directory and file selection\n",
    "dir_path = r'D:\\cataract\\Ocular Disease Classification.v4i.folder\\test\\Random Images'\n",
    "files = os.listdir(dir_path)\n",
    "file = random.choice(files)\n",
    "print(file)\n",
    "file_path = os.path.join(dir_path, file)\n",
    "\n",
    "# Infer predictions from the model\n",
    "result = model.infer(file_path, model_id=\"ocular-disease-classification/4\")\n",
    "predictions = result['predictions']\n",
    "\n",
    "# Define the threshold\n",
    "threshold = 0.5\n",
    "\n",
    "# Filter predictions where confidence is greater than the threshold\n",
    "filtered_predictions = {condition: details for condition, details in predictions.items() if details['confidence'] > threshold}\n",
    "\n",
    "# Check if there are any predictions above the threshold\n",
    "if filtered_predictions:\n",
    "    # Print the filtered conditions\n",
    "    for condition, details in filtered_predictions.items():\n",
    "        print(f\"Condition: {condition}\")\n",
    "        print(f\"Confidence: {details['confidence']:.3f}\")\n",
    "        print(f\"Class ID: {details['class_id']}\\n\")\n",
    "else:\n",
    "    # If no prediction is above the threshold\n",
    "    print(\"Nothing found above the threshold value.\")"
   ]
  },
  {
   "cell_type": "code",
   "execution_count": null,
   "metadata": {},
   "outputs": [],
   "source": []
  }
 ],
 "metadata": {
  "kernelspec": {
   "display_name": "Python 3",
   "language": "python",
   "name": "python3"
  },
  "language_info": {
   "codemirror_mode": {
    "name": "ipython",
    "version": 3
   },
   "file_extension": ".py",
   "mimetype": "text/x-python",
   "name": "python",
   "nbconvert_exporter": "python",
   "pygments_lexer": "ipython3",
   "version": "3.11.7"
  }
 },
 "nbformat": 4,
 "nbformat_minor": 2
}
